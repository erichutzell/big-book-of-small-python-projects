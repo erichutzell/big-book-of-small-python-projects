{
 "cells": [
  {
   "cell_type": "markdown",
   "id": "56a1e072",
   "metadata": {},
   "source": [
    "<h2><center>Bitmap Message</center></h2>"
   ]
  },
  {
   "cell_type": "code",
   "execution_count": 7,
   "id": "4a5c1558",
   "metadata": {},
   "outputs": [
    {
     "name": "stdout",
     "output_type": "stream",
     "text": [
      "Bitmap Message, by Al Sweigart al@inventwithpython.com\n",
      "Enter the message to display the bitmap.\n",
      "> yo\n",
      "\n",
      "yoyoyoyoyoyoyoyoyoyoyoyoyoyoyoyoyoyoyoyoyoyoyoyoyoyoyoyoyoyoyoyoyoyo\n",
      "   oyoyoyoyoyoyoy   y  oyo oy  o      yoyoyoyoyoyoyoyoyoyoyoyoyoyoyo\n",
      "  yoyoyoyoyoyoyoyoyoyoy yo oy y  o oyoyoyoyoyoyoyoyoyoyoyoyoyoyoy y\n",
      " oy      oyoyoyoyoyoyoyoyo       oyoyoyoyoyoyoyoyoyoyoyoyoyoyoy\n",
      "          yoyoyoyoyoyoy          oy  o oyoy yo oyoyoyoyoyoyoy y\n",
      "           oyoyoyoyo            yoyoyoy   yoyoyoyoyoyoyoyo o o\n",
      "            yoyoyoyo           oyoyoyoyoyoyoyoyoyoyoyoyoyo  y\n",
      "   o        y yoyo oyo         oyoyoyoyoyoyoyo oyoyoy  oy y\n",
      "               oyoy  o         oyoyoyoyoyoyoyo   oyo oyo  y\n",
      "                 oyoyoy         yoyoyoyoyoyoy    oy   yo  y\n",
      "                 oyoyoyoy        oyoyoyoyoyoyo    y  oy yoy\n",
      "                   oyoyoyoy         yoyoyoyo          y yoy yoyo\n",
      "                   oyoyoyoyo         oyoyoy  o        yoyo oy y yo\n",
      "                   oyoyoyoyo         oyoyoy y y           yoy y   y\n",
      "                     oyoyoy          oyoyo oy             yoyoy   y\n",
      "                     oyoyo            yoyo o            yoyoyoyo\n",
      "                    yoyoy             yoyo              yoyoyoyoy\n",
      "                    yoyo              yo                 oyoyoyo   o\n",
      "                    yoy                                       y    o\n",
      "                    yo     o                    y\n",
      "yoyoyoyoyoyoyoyoyoyoyoyoyoyoyoyoyoyoyoyoyoyoyoyoyoyoyoyoyoyoyoyoyoyo\n"
     ]
    }
   ],
   "source": [
    "\"\"\"Bitmap Message, by Al Sweigart al@inventwithpython.com\n",
    "Displays a text message according to the provided bitmap image.\n",
    "This code is available at https://nostarch.com/big-book-small-python-programming\n",
    "Tags: tiny, beginner, artistic\"\"\"\n",
    "\n",
    "\n",
    "\n",
    "\n",
    "import sys\n",
    "\n",
    "#(!) Try changing this multiline string to any image you like:\n",
    "\n",
    "# There are 68 periods along the top and bottom of this string:\n",
    "# (You can also caopy and paste this string from\n",
    "# https://inventwithpython.com/bitmapworld.txt)\n",
    "\n",
    "bitmap =\"\"\"\n",
    "....................................................................\n",
    "   **************   *  *** **  *      ******************************\n",
    "  ********************* ** ** *  * ****************************** *\n",
    " **      *****************       ******************************\n",
    "          *************          **  * **** ** ************** *\n",
    "           *********            *******   **************** * *\n",
    "            ********           ***************************  *\n",
    "   *        * **** ***         *************** ******  ** *\n",
    "               ****  *         ***************   *** ***  *\n",
    "                 ******         *************    **   **  *\n",
    "                 ********        *************    *  ** ***\n",
    "                   ********         ********          * *** ****\n",
    "                   *********         ******  *        **** ** * **\n",
    "                   *********         ****** * *           *** *   *\n",
    "                     ******          ***** **             *****   *\n",
    "                     *****            **** *            ********\n",
    "                    *****             ****              *********\n",
    "                    ****              **                 *******   *\n",
    "                    ***                                       *    *\n",
    "                    **     *                    *\n",
    "....................................................................\"\"\"\n",
    "\n",
    "print('Bitmap Message, by Al Sweigart al@inventwithpython.com')\n",
    "print('Enter the message to display the bitmap.')\n",
    "message = input('> ')\n",
    "if message == '':\n",
    "    sys.exit()\n",
    "    \n",
    "# Loop over each line in the bitmap:\n",
    "for line in bitmap.splitlines():\n",
    "    # Loop over each character in the line:\n",
    "    for i, bit in enumerate(line):\n",
    "        if bit == ' ':\n",
    "            # Print an empty space since there's a space in the bitmap:\n",
    "            print(' ', end='')\n",
    "        else:\n",
    "            # Print a character from the message:\n",
    "            print(message[i % len(message)], end='')\n",
    "    print() # Print a newline.\n",
    "\n",
    "\n",
    "\n"
   ]
  },
  {
   "cell_type": "code",
   "execution_count": null,
   "id": "9333750e",
   "metadata": {},
   "outputs": [],
   "source": []
  }
 ],
 "metadata": {
  "kernelspec": {
   "display_name": "Python 3 (ipykernel)",
   "language": "python",
   "name": "python3"
  },
  "language_info": {
   "codemirror_mode": {
    "name": "ipython",
    "version": 3
   },
   "file_extension": ".py",
   "mimetype": "text/x-python",
   "name": "python",
   "nbconvert_exporter": "python",
   "pygments_lexer": "ipython3",
   "version": "3.9.15"
  },
  "varInspector": {
   "cols": {
    "lenName": 16,
    "lenType": 16,
    "lenVar": 40
   },
   "kernels_config": {
    "python": {
     "delete_cmd_postfix": "",
     "delete_cmd_prefix": "del ",
     "library": "var_list.py",
     "varRefreshCmd": "print(var_dic_list())"
    },
    "r": {
     "delete_cmd_postfix": ") ",
     "delete_cmd_prefix": "rm(",
     "library": "var_list.r",
     "varRefreshCmd": "cat(var_dic_list()) "
    }
   },
   "types_to_exclude": [
    "module",
    "function",
    "builtin_function_or_method",
    "instance",
    "_Feature"
   ],
   "window_display": false
  }
 },
 "nbformat": 4,
 "nbformat_minor": 5
}
