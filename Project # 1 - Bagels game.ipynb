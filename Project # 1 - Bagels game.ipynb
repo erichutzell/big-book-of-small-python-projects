{
 "cells": [
  {
   "cell_type": "markdown",
   "id": "d7fa0a8a",
   "metadata": {},
   "source": [
    "<h1><center>The Big Book Of Small Python Projects</center></h1>"
   ]
  },
  {
   "cell_type": "markdown",
   "id": "77e06f67",
   "metadata": {},
   "source": [
    "<h3><center>81 Easy Practice Programs</center></h3>"
   ]
  },
  {
   "cell_type": "markdown",
   "id": "b0393d24",
   "metadata": {},
   "source": [
    "<h4>Bagels, page1</h4>"
   ]
  },
  {
   "cell_type": "markdown",
   "id": "27a6875e",
   "metadata": {},
   "source": [
    "<h5>Import Libraries</h5>"
   ]
  },
  {
   "cell_type": "code",
   "execution_count": 4,
   "id": "bcfee619",
   "metadata": {},
   "outputs": [],
   "source": [
    "import random"
   ]
  },
  {
   "cell_type": "code",
   "execution_count": null,
   "id": "518f4951",
   "metadata": {},
   "outputs": [],
   "source": [
    "NUM_DIGITS = 3 #(!) Try setting this to 1 to 10\n",
    "MAX_GUESSES = 10 #(!) Try setting thos to 1 or 100\n",
    "\n",
    "def main():\n",
    "    print('''Bagels, a deductive logic game.\n",
    "By Al Sweigart al@inventwithpython.com\n",
    "\n",
    "I am thinking of a {}--digit number with no repeated digits.\n",
    "Try to guess what it is. Here are some clues:\n",
    "When I say:       That means:\n",
    "    Pico          One digit is correct but in the wrong position.\n",
    "    Fermi         One digit is correct and in the right position\n",
    "    Bagels        No digit is correct.\n",
    "    \n",
    "For example, if the secret number was 248 and your guess was 843, the\n",
    "clues would be Fermi Pico.'''.format(NUM_DIGITS))\n",
    "    \n",
    "    while True: # Main game loop.\n",
    "        # This stores the secret number the player needs to guess:\n",
    "        secretNum = getSecretNum()\n",
    "        print('I have thought up a number.')\n",
    "        print('You have {} guesses to get it.'.format(MAX_GUESSES))\n",
    "        \n",
    "        numGuesses = 1\n",
    "        while numGuesses <= MAX_GUESSES:\n",
    "            guess = ''\n",
    "            # Keep looping until they enter a valid guess:\n",
    "            while len(guess) != NUM_DIGITS or not guess.isdecimal():\n",
    "                print('Guess #{}: '.format(numGuesses))\n",
    "                guess = input('> ')\n",
    "                \n",
    "            clues = getClues(guess, secretNum)\n",
    "            print(clues)\n",
    "            numGuesses += 1\n",
    "            \n",
    "            if guess == secretNum:\n",
    "                break # They're correct, so break out of this loop.\n",
    "            if numGuesses >MAX_GUESSES:\n",
    "                print('Sorry, but you ran out of guesses.')\n",
    "                print('The anser was {}.'.format(secretNum))\n",
    "                \n",
    "        # Ask player if they want to play again.\n",
    "        print('Do you want to play again?(yes or no)')\n",
    "        if not input('> ').lower().startswith('y'):\n",
    "            break\n",
    "        print('Thank you so much for playing')\n",
    "        \n",
    "\n",
    "def getSecretNum():\n",
    "    \"\"\"Returns a string made up of NUM_DIGITS unique random digits.\"\"\"\n",
    "    numbers = list('0123456789') # Create a list 0 to 9.\n",
    "    random.shuffle(numbers) # Shuffle them into random order.\n",
    "    \n",
    "    # Get the first NUM_DIGITS digits in the list for the secret number:\n",
    "    secretNum = ''\n",
    "    for i in range(NUM_DIGITS):\n",
    "        secretNum += str(numbers[i])\n",
    "    return secretNum\n",
    "\n",
    "def getClues(guess, secretNum):\n",
    "    \"\"\"Returns a string with the pico, fermi, bagels clues for a guess\n",
    "    and secret number pair\"\"\"\n",
    "    \n",
    "    if guess == secretNum:\n",
    "        return 'You got it!'\n",
    "    \n",
    "    clues = []\n",
    "    \n",
    "    for i in range(len(guess)):\n",
    "        if guess[i] ==secretNum[i]:\n",
    "            # A correct digit is in the correct place.\n",
    "            clues.append('Fermi')\n",
    "        elif guess[i] in secretNum:\n",
    "            # A digit is in the incorrect place.\n",
    "            clues.append('Pico')\n",
    "        if len(clues) == 0:\n",
    "            return 'Bagels' # There are no correct digits at all.\n",
    "        else:\n",
    "            # Sort the clues into alphabetical order so their original order\n",
    "            # Doesn't give information away.\n",
    "            clues.sort()\n",
    "            # Make a single string from the list of clues.\n",
    "            return ''.join(clues)\n",
    "        \n",
    "# If the program is run (instead of imported), run the game:\n",
    "# if__name__ == '__main__':\n",
    "if __name__ == '__main__':\n",
    "    main()\n",
    "            \n",
    "    \n",
    "        \n",
    "        "
   ]
  }
 ],
 "metadata": {
  "kernelspec": {
   "display_name": "Python 3 (ipykernel)",
   "language": "python",
   "name": "python3"
  },
  "language_info": {
   "codemirror_mode": {
    "name": "ipython",
    "version": 3
   },
   "file_extension": ".py",
   "mimetype": "text/x-python",
   "name": "python",
   "nbconvert_exporter": "python",
   "pygments_lexer": "ipython3",
   "version": "3.9.15"
  },
  "varInspector": {
   "cols": {
    "lenName": 16,
    "lenType": 16,
    "lenVar": 40
   },
   "kernels_config": {
    "python": {
     "delete_cmd_postfix": "",
     "delete_cmd_prefix": "del ",
     "library": "var_list.py",
     "varRefreshCmd": "print(var_dic_list())"
    },
    "r": {
     "delete_cmd_postfix": ") ",
     "delete_cmd_prefix": "rm(",
     "library": "var_list.r",
     "varRefreshCmd": "cat(var_dic_list()) "
    }
   },
   "types_to_exclude": [
    "module",
    "function",
    "builtin_function_or_method",
    "instance",
    "_Feature"
   ],
   "window_display": false
  }
 },
 "nbformat": 4,
 "nbformat_minor": 5
}
